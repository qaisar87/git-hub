{
 "cells": [
  {
   "cell_type": "markdown",
   "id": "acd71544",
   "metadata": {},
   "source": [
    "# 1 My_first program in python\n",
    "# How to use Jupyter Note Book\n",
    " Basic Python\n",
    "    1-My first program\n",
    "    2-My second program\n",
    "    "
   ]
  },
  {
   "cell_type": "code",
   "execution_count": 8,
   "id": "0b1d57bc",
   "metadata": {},
   "outputs": [
    {
     "name": "stdout",
     "output_type": "stream",
     "text": [
      "4\n",
      "9\n"
     ]
    }
   ],
   "source": [
    "print(2+2)\n",
    "print(3*3)\n",
    "\n"
   ]
  },
  {
   "cell_type": "markdown",
   "id": "fae9d098",
   "metadata": {},
   "source": [
    "# 1 My_second program in python"
   ]
  },
  {
   "cell_type": "code",
   "execution_count": 9,
   "id": "15f0c8bd",
   "metadata": {},
   "outputs": [
    {
     "name": "stdout",
     "output_type": "stream",
     "text": [
      "8\n",
      "3\n",
      "6.5\n"
     ]
    }
   ],
   "source": [
    "print (2+6)\n",
    "print(6//2)\n",
    "print(3**2/2*3/3+6-4)"
   ]
  },
  {
   "cell_type": "code",
   "execution_count": null,
   "id": "6b56c92d",
   "metadata": {},
   "outputs": [],
   "source": []
  }
 ],
 "metadata": {
  "kernelspec": {
   "display_name": "Python 3 (ipykernel)",
   "language": "python",
   "name": "python3"
  },
  "language_info": {
   "codemirror_mode": {
    "name": "ipython",
    "version": 3
   },
   "file_extension": ".py",
   "mimetype": "text/x-python",
   "name": "python",
   "nbconvert_exporter": "python",
   "pygments_lexer": "ipython3",
   "version": "3.11.4"
  }
 },
 "nbformat": 4,
 "nbformat_minor": 5
}
