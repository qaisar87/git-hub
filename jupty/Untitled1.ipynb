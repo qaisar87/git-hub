{
 "cells": [
  {
   "cell_type": "code",
   "execution_count": 2,
   "id": "2c668fca",
   "metadata": {
    "scrolled": true
   },
   "outputs": [
    {
     "name": "stdout",
     "output_type": "stream",
     "text": [
      "How old is hammad?6\n",
      "False\n"
     ]
    }
   ],
   "source": [
    "age_at_school=4\n",
    "hammad_age=input(\"How old is hammad?\")# input function\n",
    "hammad_age=int(hammad_age) # conversion\n",
    "print(hammad_age==age_at_school) #logical operator\n"
   ]
  },
  {
   "cell_type": "code",
   "execution_count": 13,
   "id": "90010eb2",
   "metadata": {},
   "outputs": [
    {
     "name": "stdout",
     "output_type": "stream",
     "text": [
      "What stage of crop?5\n"
     ]
    },
    {
     "data": {
      "text/plain": [
       "False"
      ]
     },
     "execution_count": 13,
     "metadata": {},
     "output_type": "execute_result"
    }
   ],
   "source": [
    "Wheat_CWP_China=4\n",
    "corn_CWP=input(\"What stage of crop?\")\n",
    "corn_CWP=int(corn_CWP)\n",
    "(corn_CWP==Wheat_CWP_China)\n"
   ]
  },
  {
   "cell_type": "code",
   "execution_count": 32,
   "id": "6ab41611",
   "metadata": {},
   "outputs": [
    {
     "name": "stdout",
     "output_type": "stream",
     "text": [
      "irrigation 100\n"
     ]
    }
   ],
   "source": [
    "crop_stage = 10\n",
    "required_stage_water = 2\n",
    "if crop_stage==required_stage_water:\n",
    "        print(\"Water can apply\")\n",
    "elif crop_stage<=2:\n",
    "     print(\"water cannot apply\")\n",
    "elif crop_stage>required_stage_water:\n",
    "    print(\"irrigation 100\")"
   ]
  },
  {
   "cell_type": "code",
   "execution_count": 33,
   "id": "6fb8bf9d",
   "metadata": {},
   "outputs": [
    {
     "name": "stdout",
     "output_type": "stream",
     "text": [
      "what is your age?5\n",
      "How old are you?5\n",
      "Hello! 5 You are still young\n"
     ]
    }
   ],
   "source": [
    "full= input(\"what is your age?\")\n",
    "age= input(\"How old are you?\")\n",
    "greetings=\"Hello!\"\n",
    "print(greetings,full,\"You are still young\")"
   ]
  },
  {
   "cell_type": "code",
   "execution_count": 34,
   "id": "a17d6d54",
   "metadata": {
    "scrolled": true
   },
   "outputs": [
    {
     "name": "stdout",
     "output_type": "stream",
     "text": [
      "which cropcorn\n",
      "at what stage or days15\n",
      "can apply corn crop irrigated\n"
     ]
    }
   ],
   "source": [
    "crop= input(\"which crop\")\n",
    "growth= input(\"at what stage or days\")\n",
    "water= \"can apply\"\n",
    "print(water,crop,\"crop irrigated\")"
   ]
  },
  {
   "cell_type": "code",
   "execution_count": null,
   "id": "54c5d46e",
   "metadata": {},
   "outputs": [],
   "source": [
    " #if (d==\"Fri\"):continue "
   ]
  },
  {
   "cell_type": "code",
   "execution_count": 45,
   "id": "20374974",
   "metadata": {},
   "outputs": [
    {
     "name": "stdout",
     "output_type": "stream",
     "text": [
      "Mon\n",
      "Tue\n",
      "wed\n",
      "Thu\n",
      "SAT\n",
      "SUN\n"
     ]
    }
   ],
   "source": [
    "days = [\"Mon\", \"Tue\",\"wed\",\"Thu\", \"Fri\", \"SAT\",\"SUN\"]\n",
    "\n",
    "for d in days:\n",
    "    if (d==\"Fri\"):continue \n",
    "    print(d)\n"
   ]
  },
  {
   "cell_type": "code",
   "execution_count": 48,
   "id": "05ab0288",
   "metadata": {
    "scrolled": true
   },
   "outputs": [
    {
     "name": "stdout",
     "output_type": "stream",
     "text": [
      "Mon\n",
      "Tue\n",
      "wed\n",
      "Thu\n"
     ]
    }
   ],
   "source": [
    "days = [\"Mon\", \"Tue\",\"wed\",\"Thu\", \"Fri\", \"SAT\",\"SUN\"]\n",
    "\n",
    "for d in days:\n",
    "    if (d==\"Fri\"):break \n",
    "    print(d)"
   ]
  },
  {
   "cell_type": "code",
   "execution_count": 49,
   "id": "2dcb4fae",
   "metadata": {},
   "outputs": [
    {
     "name": "stdout",
     "output_type": "stream",
     "text": [
      "68\n"
     ]
    }
   ],
   "source": [
    "def future_age(age):\n",
    "    new_age=age+20\n",
    "    return new_age\n",
    "    print(new_age)\n",
    "future_predicted_age=future_age(48)\n",
    "print(future_predicted_age)"
   ]
  },
  {
   "cell_type": "code",
   "execution_count": 55,
   "id": "ea212406",
   "metadata": {},
   "outputs": [
    {
     "name": "stdout",
     "output_type": "stream",
     "text": [
      "1500\n"
     ]
    }
   ],
   "source": [
    "def future_crop_yield(crop_yield):\n",
    "    new_crop_yield=crop_yield+1000\n",
    "    return new_crop_yield\n",
    "    print(new_crop_yield)\n",
    "future_predicited_crop_yield=future_crop_yield(500)\n",
    "print(future_predicited_crop_yield)"
   ]
  }
 ],
 "metadata": {
  "kernelspec": {
   "display_name": "Python 3 (ipykernel)",
   "language": "python",
   "name": "python3"
  },
  "language_info": {
   "codemirror_mode": {
    "name": "ipython",
    "version": 3
   },
   "file_extension": ".py",
   "mimetype": "text/x-python",
   "name": "python",
   "nbconvert_exporter": "python",
   "pygments_lexer": "ipython3",
   "version": "3.11.4"
  }
 },
 "nbformat": 4,
 "nbformat_minor": 5
}
